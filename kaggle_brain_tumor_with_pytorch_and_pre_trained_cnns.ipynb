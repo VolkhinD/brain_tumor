{
  "metadata": {
    "kernelspec": {
      "language": "python",
      "display_name": "Python 3",
      "name": "python3"
    },
    "language_info": {
      "pygments_lexer": "ipython3",
      "nbconvert_exporter": "python",
      "version": "3.6.4",
      "file_extension": ".py",
      "codemirror_mode": {
        "name": "ipython",
        "version": 3
      },
      "name": "python",
      "mimetype": "text/x-python"
    },
    "colab": {
      "provenance": [],
      "collapsed_sections": [],
      "include_colab_link": true
    },
    "accelerator": "GPU"
  },
  "nbformat_minor": 0,
  "nbformat": 4,
  "cells": [
    {
      "cell_type": "markdown",
      "metadata": {
        "id": "view-in-github",
        "colab_type": "text"
      },
      "source": [
        "<a href=\"https://colab.research.google.com/github/VolkhinD/brain_tumor/blob/main/kaggle_brain_tumor_with_pytorch_and_pre_trained_cnns.ipynb\" target=\"_parent\"><img src=\"https://colab.research.google.com/assets/colab-badge.svg\" alt=\"Open In Colab\"/></a>"
      ]
    },
    {
      "cell_type": "markdown",
      "source": [
        "# Getting Start"
      ],
      "metadata": {
        "id": "VW6EulYcIjjw"
      }
    },
    {
      "cell_type": "code",
      "source": [
        "from google.colab import drive\n",
        "drive.mount('/content/drive')"
      ],
      "metadata": {
        "colab": {
          "base_uri": "https://localhost:8080/"
        },
        "id": "JTIMc3jgLr_E",
        "outputId": "0648530e-a626-49ff-a49f-d5e492cd104b"
      },
      "execution_count": 26,
      "outputs": [
        {
          "output_type": "stream",
          "name": "stdout",
          "text": [
            "Drive already mounted at /content/drive; to attempt to forcibly remount, call drive.mount(\"/content/drive\", force_remount=True).\n"
          ]
        }
      ]
    },
    {
      "cell_type": "code",
      "source": [
        "import torch\n",
        "import torch.nn as nn\n",
        "import torch.optim as optim\n",
        "from torch.optim import lr_scheduler\n",
        "import numpy as np\n",
        "import torchvision\n",
        "from torchvision import datasets, models, transforms\n",
        "import matplotlib.pyplot as plt\n",
        "import time\n",
        "import os\n",
        "import copy\n",
        "from sklearn.model_selection import train_test_split\n",
        "import pandas as pd\n",
        "from skimage.io import imread\n",
        "from torch.utils.data import DataLoader,Dataset\n",
        "from tqdm.notebook import tqdm\n",
        "import random\n",
        "\n",
        "device = torch.device('cuda' if torch.cuda.is_available() else 'cpu')"
      ],
      "metadata": {
        "execution": {
          "iopub.status.busy": "2022-05-13T21:25:10.130908Z",
          "iopub.execute_input": "2022-05-13T21:25:10.131690Z",
          "iopub.status.idle": "2022-05-13T21:25:10.140391Z",
          "shell.execute_reply.started": "2022-05-13T21:25:10.131617Z",
          "shell.execute_reply": "2022-05-13T21:25:10.139359Z"
        },
        "trusted": true,
        "id": "1Jc0OqIzIjjy"
      },
      "execution_count": 27,
      "outputs": []
    },
    {
      "cell_type": "code",
      "source": [
        "path_to_csv = '/content/drive/MyDrive/Data/Brain Tumor.csv'\n",
        "path_to_img = '/content/drive/MyDrive/Data/Brain Tumor'\n",
        "data = pd.read_csv(path_to_csv, usecols=[0,1])\n",
        "\n",
        "train_val_data, test_data = train_test_split(data, test_size=0.2, shuffle=True, random_state=45)\n",
        "train_data, val_data = train_test_split(train_val_data, test_size = 0.2, shuffle=True, random_state=45)\n",
        "img_data = {'train': train_data, 'val': val_data, 'test': test_data, 'trainval': train_val_data}"
      ],
      "metadata": {
        "execution": {
          "iopub.status.busy": "2022-05-13T21:25:10.142214Z",
          "iopub.execute_input": "2022-05-13T21:25:10.142679Z",
          "iopub.status.idle": "2022-05-13T21:25:10.183578Z",
          "shell.execute_reply.started": "2022-05-13T21:25:10.142638Z",
          "shell.execute_reply": "2022-05-13T21:25:10.183015Z"
        },
        "trusted": true,
        "id": "adiwA2dLIjjz"
      },
      "execution_count": 28,
      "outputs": []
    },
    {
      "cell_type": "code",
      "source": [
        "#Take a look to a sampler Image\n",
        "path_to_example_image = '/content/drive/MyDrive/Data/Brain Tumor/Image1.jpg'\n",
        "\n",
        "img1 = torchvision.io.read_image(path_to_example_image) # The torchvision.io package provides functions for performing IO operations.\n",
        "                                                        # I use the torchvision.io.read_image() function to load our image into a tensor \n",
        "\n",
        "print(img1.shape)\n",
        "import matplotlib.pyplot as plt\n",
        "#If we want to display our image with matplotlib we need to transform the image format from [3, 240, 240] to [240, 240, 3].\n",
        "#To do this we use the permute() function which allows us to move the dimensions of a tensor.\n",
        "plt.imshow(img1.permute((1,2,0)))\n",
        "print(data.loc[0][0])\n",
        "print(\"Image label is \", data.loc[0][1])"
      ],
      "metadata": {
        "execution": {
          "iopub.status.busy": "2022-05-13T21:25:10.185109Z",
          "iopub.execute_input": "2022-05-13T21:25:10.185744Z",
          "iopub.status.idle": "2022-05-13T21:25:10.355999Z",
          "shell.execute_reply.started": "2022-05-13T21:25:10.185707Z",
          "shell.execute_reply": "2022-05-13T21:25:10.355283Z"
        },
        "trusted": true,
        "id": "zVSzFdBwIjj0",
        "colab": {
          "base_uri": "https://localhost:8080/",
          "height": 322
        },
        "outputId": "6c025150-efb8-4cea-cca6-ff0ef29398dc"
      },
      "execution_count": 29,
      "outputs": [
        {
          "output_type": "stream",
          "name": "stdout",
          "text": [
            "torch.Size([3, 240, 240])\n",
            "Image1\n",
            "Image label is  0\n"
          ]
        },
        {
          "output_type": "display_data",
          "data": {
            "text/plain": [
              "<Figure size 432x288 with 1 Axes>"
            ],
            "image/png": "[encoded data removed]"
          },
          "metadata": {
            "needs_background": "light"
          }
        }
      ]
    },
    {
      "cell_type": "markdown",
      "source": [
        "# Custom Dataset\n",
        "\n",
        "Create a custom dataset to load data and much image names and their labeles. A custom Dataset class must implement three functions: __init__, __len__, and __getitem__."
      ],
      "metadata": {
        "id": "BaPObOxmIjj0"
      }
    },
    {
      "cell_type": "code",
      "source": [
        "class ImgDataSet(Dataset):\n",
        "    def __init__(self, csv_file, transform): \n",
        "        self.transform = transform\n",
        "        self.csv_file = csv_file # pandas DataFrame which contains Image names and their labels\n",
        "        self.img_folder = '/content/drive/MyDrive/Data/Brain Tumor' # path to folder with images\n",
        "        self.img_names = self.csv_file[:]['Image'].tolist()\n",
        "        self.labels = self.csv_file[:]['Class'].tolist()\n",
        "    \n",
        "\n",
        "#The __len__ function returns the number of samples in our dataset.\n",
        "    def __len__(self):\n",
        "        return len(self.labels)\n",
        "\n",
        "    def __getitem__(self, index):\n",
        "\n",
        "        path = os.path.join(self.img_folder, str(self.img_names[index]) + '.jpg')\n",
        "\n",
        "        image = torchvision.io.read_image(path)\n",
        "        image=self.transform(image)\n",
        "        target=self.labels[index]\n",
        "\n",
        "        sample = (image, target)\n",
        "\n",
        "        return sample\n"
      ],
      "metadata": {
        "execution": {
          "iopub.status.busy": "2022-05-13T21:25:10.357265Z",
          "iopub.execute_input": "2022-05-13T21:25:10.357640Z",
          "iopub.status.idle": "2022-05-13T21:25:10.366739Z",
          "shell.execute_reply.started": "2022-05-13T21:25:10.357605Z",
          "shell.execute_reply": "2022-05-13T21:25:10.365737Z"
        },
        "trusted": true,
        "id": "LFDZ5dahIjj0"
      },
      "execution_count": 30,
      "outputs": []
    },
    {
      "cell_type": "markdown",
      "source": [
        "__getitem__ loads and returns a sample from the dataset at the given index. Based on the index, it identifies the image’s location on disk, converts that to a tensor, retrieves the corresponding label, calls the transform functions on them, and returns the tensor image and corresponding label in a tuple."
      ],
      "metadata": {
        "id": "Gb1JndS7Ijj1"
      }
    },
    {
      "cell_type": "markdown",
      "source": [
        "All pre-trained models expect input images normalized in the same way, i.e. mini-batches of 3-channel RGB images of shape (3 x H x W), where H and W are expected to be at least 224. The images have to be loaded in to a range of [0, 1] and then normalized using mean = [0.485, 0.456, 0.406] and std = [0.229, 0.224, 0.225]. [Source](https://pytorch.org/hub/pytorch_vision_resnet/)"
      ],
      "metadata": {
        "id": "OdN53gj2Ijj2"
      }
    },
    {
      "cell_type": "code",
      "source": [
        "mean = np.array([0.485, 0.456, 0.406])\n",
        "std = np.array([0.229, 0.224, 0.225])\n",
        "\n",
        "data_transform = {'train': transforms.Compose([\n",
        "                transforms.ToPILImage(),\n",
        "                transforms.CenterCrop(224), # Resizing the image to be 224 by 224\n",
        "                transforms.RandomHorizontalFlip(p=0.5),\n",
        "                transforms.ToTensor(), #converting the dimension from (height,weight,channel) to (channel,height,weight) convention of PyTorch\n",
        "                transforms.Normalize(mean, std)\n",
        "        ]),\n",
        "              'val': transforms.Compose([\n",
        "                transforms.ToPILImage(),\n",
        "                transforms.CenterCrop(224),\n",
        "                transforms.ToTensor(), \n",
        "                transforms.Normalize(mean, std)\n",
        "        ]),\n",
        "              'test': transforms.Compose([\n",
        "                transforms.ToPILImage(),\n",
        "                transforms.CenterCrop(224),\n",
        "                transforms.ToTensor(), \n",
        "                transforms.Normalize(mean, std)\n",
        "        ]),    \n",
        "              'trainval': transforms.Compose([\n",
        "                transforms.ToPILImage(),\n",
        "                transforms.CenterCrop(224), \n",
        "                transforms.RandomHorizontalFlip(p=0.5),\n",
        "                transforms.ToTensor(), \n",
        "                transforms.Normalize(mean, std)])}\n",
        "\n",
        "datasets = {x: ImgDataSet(img_data[x], transform=data_transform[x]) for x in ['train', 'val', 'test', 'trainval']}\n",
        "\n",
        "dataloaders = {x: DataLoader(datasets[x], batch_size=4, shuffle=True)  for x in ['train', 'val', 'test', 'trainval']}\n",
        "\n",
        "dataset_sizes = {x: len(datasets[x]) for x in ['train', 'val', 'test', 'trainval']}\n",
        "\n",
        "for x in ['train', 'val', 'test', 'trainval']:\n",
        "    print(f'{x} size is {dataset_sizes[x]}')"
      ],
      "metadata": {
        "execution": {
          "iopub.status.busy": "2022-05-13T21:25:10.368871Z",
          "iopub.execute_input": "2022-05-13T21:25:10.369122Z",
          "iopub.status.idle": "2022-05-13T21:25:10.395286Z",
          "shell.execute_reply.started": "2022-05-13T21:25:10.369087Z",
          "shell.execute_reply": "2022-05-13T21:25:10.394499Z"
        },
        "trusted": true,
        "id": "m3koJTJGIjj2",
        "colab": {
          "base_uri": "https://localhost:8080/"
        },
        "outputId": "605cf4b5-c016-4078-cd0e-c3a77e54f0a9"
      },
      "execution_count": 31,
      "outputs": [
        {
          "output_type": "stream",
          "name": "stdout",
          "text": [
            "train size is 2407\n",
            "val size is 602\n",
            "test size is 753\n",
            "trainval size is 3009\n"
          ]
        }
      ]
    },
    {
      "cell_type": "code",
      "source": [
        "ex = datasets['train'][0]"
      ],
      "metadata": {
        "id": "A9Hm2hJBM3Go"
      },
      "execution_count": 32,
      "outputs": []
    },
    {
      "cell_type": "markdown",
      "source": [
        "# Train and Test Functions"
      ],
      "metadata": {
        "id": "Rn8liKIDIjj3"
      }
    },
    {
      "cell_type": "code",
      "source": [
        "def try_small_sample(model, creterion, optimizer):\n",
        "    \"\"\" Takes 1 batch (size 4) and tries to overfit a model\"\"\"\n",
        "  \n",
        "    model.train()\n",
        "# I copied work form Google Colab and it ueses 2 spaces instead of 4 \n",
        "    sam_img, sam_labels = next(iter(dataloaders['train']))\n",
        "    sam_img, sam_labels = sam_img.to(device), sam_labels.to(device)\n",
        "\n",
        "    for epoch in range(1000):\n",
        "        outputs = model(sam_img)\n",
        "        loss = creterion(outputs, sam_labels)\n",
        "\n",
        "        optimizer.zero_grad()\n",
        "        loss.backward()\n",
        "        optimizer.step()\n",
        "\n",
        "        if epoch % 100 == 0:\n",
        "            print(f'Epoch № {epoch + 1}, loss is {loss.item()}' )\n",
        "  \n",
        "    return\n",
        "\n",
        "def test_model(model):\n",
        "\n",
        "    model.eval()\n",
        "\n",
        "    running_corrects = 0\n",
        "\n",
        "    for inputs, labels in dataloaders['test']:\n",
        "      inputs, labels = inputs.to(device), labels.to(device)\n",
        "    \n",
        "      with torch.no_grad():\n",
        "        outputs = model(inputs)\n",
        "        _, preds = torch.max(outputs, 1)\n",
        "        running_corrects += torch.sum(preds == labels.data)\n",
        "\n",
        "    \n",
        "    acc = running_corrects.double()/dataset_sizes['test']\n",
        "\n",
        "    return round(acc.item(), 5)\n",
        "\n",
        "\n",
        "def set_seed(n):\n",
        "    random.seed(n)\n",
        "    torch.manual_seed(n)\n",
        "    torch.cuda.manual_seed(n)"
      ],
      "metadata": {
        "execution": {
          "iopub.status.busy": "2022-05-13T21:25:10.396928Z",
          "iopub.execute_input": "2022-05-13T21:25:10.397545Z",
          "iopub.status.idle": "2022-05-13T21:25:10.410601Z",
          "shell.execute_reply.started": "2022-05-13T21:25:10.397512Z",
          "shell.execute_reply": "2022-05-13T21:25:10.409814Z"
        },
        "trusted": true,
        "id": "doyjABpoIjj3"
      },
      "execution_count": 56,
      "outputs": []
    },
    {
      "cell_type": "code",
      "source": [
        "def train_model(model, criterion, optimizer, scheduler, num_epochs = 5):\n",
        "    \n",
        "    since = time.time()\n",
        "\n",
        "    for epoch in range(num_epochs):\n",
        "        print('Epoch {}/{}'.format(epoch + 1, num_epochs))\n",
        "        print('-' * 10)\n",
        "\n",
        "        # Each epoch has a training and validation phase\n",
        "        for phase in ['train', 'val']:\n",
        "            if phase == 'train':\n",
        "                model.train()  # Set model to training mode\n",
        "            else:\n",
        "                model.eval()   # Set model to evaluate mode\n",
        "\n",
        "            running_loss = 0.0\n",
        "            running_corrects = 0\n",
        "\n",
        "              \n",
        "            for inputs, labels in dataloaders[phase]:\n",
        "                inputs = inputs.to(device)\n",
        "                labels = labels.to(device)\n",
        "        \n",
        "                # forward\n",
        "            \n",
        "                with torch.set_grad_enabled(phase == 'train'):\n",
        "                    outputs = model(inputs)\n",
        "                    _, preds = torch.max(outputs, 1)\n",
        "                    loss = criterion(outputs, labels)\n",
        "\n",
        "          \n",
        "                    if phase == 'train':\n",
        "                        optimizer.zero_grad()\n",
        "                        loss.backward()\n",
        "                        optimizer.step()\n",
        "\n",
        "          \n",
        "                    running_loss += loss.item() * inputs.size(0)\n",
        "                    running_corrects += torch.sum(preds == labels.data)\n",
        "\n",
        "                if phase == 'train' and scheduler != None:\n",
        "                      scheduler.step()\n",
        "\n",
        "                epoch_loss = running_loss / dataset_sizes[phase]\n",
        "                epoch_acc = running_corrects.double() / dataset_sizes[phase]\n",
        "\n",
        "            print('{} Loss: {:.4f} Acc: {:.4f}'.format(phase, epoch_loss, epoch_acc))\n",
        "            print()\n",
        "\n",
        "    time_elapsed = time.time() - since\n",
        "    print('Training complete in {:.0f}m {:.0f}s'.format(time_elapsed // 60, time_elapsed % 60))\n",
        "\n",
        "    return model"
      ],
      "metadata": {
        "execution": {
          "iopub.status.busy": "2022-05-13T21:25:10.412179Z",
          "iopub.execute_input": "2022-05-13T21:25:10.413155Z",
          "iopub.status.idle": "2022-05-13T21:25:10.429693Z",
          "shell.execute_reply.started": "2022-05-13T21:25:10.413113Z",
          "shell.execute_reply": "2022-05-13T21:25:10.429109Z"
        },
        "trusted": true,
        "id": "Gvj9ggclIjj4"
      },
      "execution_count": 109,
      "outputs": []
    },
    {
      "cell_type": "markdown",
      "source": [
        "# 1 Approach:\n",
        "Train a whole model, apply learning rate schedular so every 5 steps learning rate decreased by 10 times."
      ],
      "metadata": {
        "id": "8KIDbF-RIjj4"
      }
    },
    {
      "cell_type": "markdown",
      "source": [
        "## 1 Approach with ResNet-18"
      ],
      "metadata": {
        "id": "CnnyMX-d_-IN"
      }
    },
    {
      "cell_type": "code",
      "source": [
        "set_seed(42)\n",
        "model_1 = models.resnet18(pretrained=True)\n",
        "num_of_inputfeatures = model_1.fc.in_features # number of input features for the last layer we need\n",
        "# create a new fc layer\n",
        "model_1.fc = nn.Linear(num_of_inputfeatures, 2)\n",
        "#model.to(device)\n",
        "\n",
        "creterion = nn.CrossEntropyLoss().to(device)\n",
        "optimizer_1 = optim.Adam(model_1.parameters(), lr=0.01)\n",
        "model_1.to(device)\n",
        "step_lr_shcedular = lr_scheduler.StepLR(optimizer_1, step_size=5, gamma=0.1) #every 2 steps lr multiplyed by 0.1\n"
      ],
      "metadata": {
        "execution": {
          "iopub.status.busy": "2022-05-13T21:26:50.318901Z",
          "iopub.execute_input": "2022-05-13T21:26:50.319405Z",
          "iopub.status.idle": "2022-05-13T21:26:51.416703Z",
          "shell.execute_reply.started": "2022-05-13T21:26:50.319368Z",
          "shell.execute_reply": "2022-05-13T21:26:51.415927Z"
        },
        "trusted": true,
        "id": "uIsjLiZRIjj5"
      },
      "execution_count": 110,
      "outputs": []
    },
    {
      "cell_type": "code",
      "source": [
        "test_model(model_1)"
      ],
      "metadata": {
        "execution": {
          "iopub.status.busy": "2022-05-13T21:27:10.824469Z",
          "iopub.execute_input": "2022-05-13T21:27:10.824757Z",
          "iopub.status.idle": "2022-05-13T21:27:43.859354Z",
          "shell.execute_reply.started": "2022-05-13T21:27:10.824723Z",
          "shell.execute_reply": "2022-05-13T21:27:43.858462Z"
        },
        "trusted": true,
        "id": "76EAujJGIjj5",
        "colab": {
          "base_uri": "https://localhost:8080/"
        },
        "outputId": "ac45fdb1-acc9-4da4-9b8f-8988ebf82713"
      },
      "execution_count": 111,
      "outputs": [
        {
          "output_type": "execute_result",
          "data": {
            "text/plain": [
              "0.46746"
            ]
          },
          "metadata": {},
          "execution_count": 111
        }
      ]
    },
    {
      "cell_type": "code",
      "source": [
        "model_1 = train_model(model_1, creterion, optimizer_1, step_lr_shcedular)"
      ],
      "metadata": {
        "execution": {
          "iopub.status.busy": "2022-05-13T21:28:32.035256Z",
          "iopub.execute_input": "2022-05-13T21:28:32.036174Z",
          "iopub.status.idle": "2022-05-13T21:43:08.277014Z",
          "shell.execute_reply.started": "2022-05-13T21:28:32.036132Z",
          "shell.execute_reply": "2022-05-13T21:43:08.276342Z"
        },
        "trusted": true,
        "id": "ZW85xNLKIjj5",
        "colab": {
          "base_uri": "https://localhost:8080/"
        },
        "outputId": "50c5a4e4-73d2-492e-edeb-6d1485aaf8aa"
      },
      "execution_count": 112,
      "outputs": [
        {
          "output_type": "stream",
          "name": "stdout",
          "text": [
            "Epoch 1/5\n",
            "----------\n",
            "train Loss: 1.4376 Acc: 0.5521\n",
            "\n",
            "val Loss: 0.6466 Acc: 0.5399\n",
            "\n",
            "Epoch 2/5\n",
            "----------\n",
            "train Loss: 1.3499 Acc: 0.5505\n",
            "\n",
            "val Loss: 0.7493 Acc: 0.5332\n",
            "\n",
            "Epoch 3/5\n",
            "----------\n",
            "train Loss: 1.3516 Acc: 0.5509\n",
            "\n",
            "val Loss: 0.6573 Acc: 0.5332\n",
            "\n",
            "Epoch 4/5\n",
            "----------\n",
            "train Loss: 1.3728 Acc: 0.5492\n",
            "\n",
            "val Loss: 0.7358 Acc: 0.5332\n",
            "\n",
            "Epoch 5/5\n",
            "----------\n",
            "train Loss: 1.4661 Acc: 0.5480\n",
            "\n",
            "val Loss: 0.7010 Acc: 0.5349\n",
            "\n",
            "Training complete in 1m 53s\n"
          ]
        }
      ]
    },
    {
      "cell_type": "code",
      "source": [
        "test_model(model_1)"
      ],
      "metadata": {
        "execution": {
          "iopub.status.busy": "2022-05-13T21:43:08.278299Z",
          "iopub.execute_input": "2022-05-13T21:43:08.278969Z",
          "iopub.status.idle": "2022-05-13T21:43:32.669628Z",
          "shell.execute_reply.started": "2022-05-13T21:43:08.278935Z",
          "shell.execute_reply": "2022-05-13T21:43:32.669115Z"
        },
        "trusted": true,
        "id": "hh5eebPBIjj6",
        "colab": {
          "base_uri": "https://localhost:8080/"
        },
        "outputId": "bc71330b-57cf-4108-c42b-247b95913dab"
      },
      "execution_count": 105,
      "outputs": [
        {
          "output_type": "execute_result",
          "data": {
            "text/plain": [
              "0.84197"
            ]
          },
          "metadata": {},
          "execution_count": 105
        }
      ]
    },
    {
      "cell_type": "markdown",
      "source": [
        "Result after 20 epochs: 0.71448 and learning rate was redused every 2 steps by 10 times"
      ],
      "metadata": {
        "id": "01ZC4PLrIjj6"
      }
    },
    {
      "cell_type": "markdown",
      "source": [
        "## 1 Approach with Alexnet\n",
        "\n",
        "According to [this](https://learnopencv.com/transfer-learning-for-medical-images/#:~:text=ImageNet%20pretrained%20weights%20produce%20better%20results%20in%20chest%20X%2DRay%20data.) AlexNet is a very popular choise for brain MRI so I decided to consider it. Note that I decresed learning rate by 10 times and used SGD optimizer "
      ],
      "metadata": {
        "id": "oHfyq1sCIjj6"
      }
    },
    {
      "cell_type": "code",
      "source": [
        "set_seed(16)\n",
        "alexnet_1 = models.alexnet(pretrained = True)\n",
        "alexnet_1.classifier[4] = nn.Linear(4096, 1024) # update the second classifier\n",
        "#RELU\n",
        "alexnet_1.classifier[6] = nn.Linear(1024, 2)\n",
        "alexnet_1.to(device)\n",
        "alx_optimizer_1 = optim.SGD(alexnet_1.parameters(), lr=0.001)\n",
        "alx_schedular_1 = lr_scheduler.StepLR(alx_optimizer_1, step_size=5, gamma=0.1)\n",
        "alx_creterion_1 = nn.CrossEntropyLoss().to(device)"
      ],
      "metadata": {
        "execution": {
          "iopub.status.busy": "2022-05-13T21:44:49.593265Z",
          "iopub.execute_input": "2022-05-13T21:44:49.594085Z",
          "iopub.status.idle": "2022-05-13T21:44:54.125888Z",
          "shell.execute_reply.started": "2022-05-13T21:44:49.594047Z",
          "shell.execute_reply": "2022-05-13T21:44:54.125048Z"
        },
        "trusted": true,
        "id": "zP-LT-mIIjj6"
      },
      "execution_count": 116,
      "outputs": []
    },
    {
      "cell_type": "code",
      "source": [
        "test_model(alexnet_1)"
      ],
      "metadata": {
        "execution": {
          "iopub.status.busy": "2022-05-13T21:44:54.128033Z",
          "iopub.execute_input": "2022-05-13T21:44:54.128631Z",
          "iopub.status.idle": "2022-05-13T21:45:06.655474Z",
          "shell.execute_reply.started": "2022-05-13T21:44:54.128589Z",
          "shell.execute_reply": "2022-05-13T21:45:06.654711Z"
        },
        "trusted": true,
        "id": "qr8PYfCsIjj7",
        "colab": {
          "base_uri": "https://localhost:8080/"
        },
        "outputId": "cd820504-b19e-4729-8aea-057f1895f3b2"
      },
      "execution_count": 117,
      "outputs": [
        {
          "output_type": "execute_result",
          "data": {
            "text/plain": [
              "0.46348"
            ]
          },
          "metadata": {},
          "execution_count": 117
        }
      ]
    },
    {
      "cell_type": "code",
      "source": [
        "alexnet_1 = train_model(alexnet_1, alx_creterion_1, alx_optimizer_1, alx_schedular_1)"
      ],
      "metadata": {
        "execution": {
          "iopub.status.busy": "2022-05-12T19:28:50.697747Z",
          "iopub.execute_input": "2022-05-12T19:28:50.6983Z",
          "iopub.status.idle": "2022-05-12T19:32:07.166286Z",
          "shell.execute_reply.started": "2022-05-12T19:28:50.698266Z",
          "shell.execute_reply": "2022-05-12T19:32:07.165517Z"
        },
        "trusted": true,
        "id": "QugbaQpZIjj7",
        "colab": {
          "base_uri": "https://localhost:8080/"
        },
        "outputId": "443b7693-d54f-414f-b5ef-c1a0cc8a6531"
      },
      "execution_count": 118,
      "outputs": [
        {
          "output_type": "stream",
          "name": "stdout",
          "text": [
            "Epoch 1/5\n",
            "----------\n",
            "train Loss: 0.6877 Acc: 0.5721\n",
            "\n",
            "val Loss: 0.6469 Acc: 0.6262\n",
            "\n",
            "Epoch 2/5\n",
            "----------\n",
            "train Loss: 0.6728 Acc: 0.5953\n",
            "\n",
            "val Loss: 0.6469 Acc: 0.6262\n",
            "\n",
            "Epoch 3/5\n",
            "----------\n",
            "train Loss: 0.6809 Acc: 0.5895\n",
            "\n",
            "val Loss: 0.6469 Acc: 0.6262\n",
            "\n",
            "Epoch 4/5\n",
            "----------\n",
            "train Loss: 0.6909 Acc: 0.5758\n",
            "\n",
            "val Loss: 0.6469 Acc: 0.6262\n",
            "\n",
            "Epoch 5/5\n",
            "----------\n",
            "train Loss: 0.6774 Acc: 0.5808\n",
            "\n",
            "val Loss: 0.6469 Acc: 0.6262\n",
            "\n",
            "Training complete in 1m 32s\n"
          ]
        }
      ]
    },
    {
      "cell_type": "code",
      "source": [
        "test_model(alexnet_1)"
      ],
      "metadata": {
        "execution": {
          "iopub.status.busy": "2022-05-12T19:28:07.705054Z",
          "iopub.execute_input": "2022-05-12T19:28:07.705893Z",
          "iopub.status.idle": "2022-05-12T19:28:23.890566Z",
          "shell.execute_reply.started": "2022-05-12T19:28:07.705856Z",
          "shell.execute_reply": "2022-05-12T19:28:23.88971Z"
        },
        "trusted": true,
        "id": "vMLb7lyZIjj7",
        "colab": {
          "base_uri": "https://localhost:8080/"
        },
        "outputId": "5caa3ea7-c2a1-45a5-95c9-844479124fde"
      },
      "execution_count": 119,
      "outputs": [
        {
          "output_type": "execute_result",
          "data": {
            "text/plain": [
              "0.66534"
            ]
          },
          "metadata": {},
          "execution_count": 119
        }
      ]
    },
    {
      "cell_type": "markdown",
      "source": [
        "Result after 20 epochs: 0.73307 and learning rate was redused every 10 steps by 10 times"
      ],
      "metadata": {
        "id": "0a2bQdWcIjj7"
      }
    },
    {
      "cell_type": "markdown",
      "source": [
        "# 2 Approach:\n",
        "Add one more linear layer to model and train only new one. Also apply learning rate schedular, so every 5 epoch lr decreases by 10 times"
      ],
      "metadata": {
        "id": "8swR9kmvIjj7"
      }
    },
    {
      "cell_type": "markdown",
      "source": [
        "## 2 Approach with ResNet-18"
      ],
      "metadata": {
        "id": "5tBpCwLiD_ZF"
      }
    },
    {
      "cell_type": "code",
      "source": [
        "set_seed(42)\n",
        "model_2 = models.resnet18(pretrained=True)\n",
        "for param in model_2.parameters():\n",
        "      param.requires_grad = False\n",
        "\n",
        "num_in_feat = model_2.fc.in_features\n",
        "model_2.fc = nn.Linear(num_in_feat, 2)\n",
        "model_2 = model_2.to(device)\n",
        "\n",
        "optimizer_2 = optim.Adam(model_2.parameters(), lr = 0.01)\n",
        "criterion_2 = nn.CrossEntropyLoss()\n",
        "lr_schedular_2 = lr_scheduler.StepLR(optimizer_2, step_size=5, gamma=0.1)"
      ],
      "metadata": {
        "execution": {
          "iopub.status.busy": "2022-05-12T20:02:14.081471Z",
          "iopub.execute_input": "2022-05-12T20:02:14.081989Z",
          "iopub.status.idle": "2022-05-12T20:02:14.318348Z",
          "shell.execute_reply.started": "2022-05-12T20:02:14.081926Z",
          "shell.execute_reply": "2022-05-12T20:02:14.317596Z"
        },
        "trusted": true,
        "id": "EvbSkHkDIjj7"
      },
      "execution_count": 123,
      "outputs": []
    },
    {
      "cell_type": "code",
      "source": [
        "test_model(model_2)"
      ],
      "metadata": {
        "execution": {
          "iopub.status.busy": "2022-05-12T17:33:36.252407Z",
          "iopub.execute_input": "2022-05-12T17:33:36.252829Z",
          "iopub.status.idle": "2022-05-12T17:34:15.532426Z",
          "shell.execute_reply.started": "2022-05-12T17:33:36.252799Z",
          "shell.execute_reply": "2022-05-12T17:34:15.531401Z"
        },
        "trusted": true,
        "id": "MPZZodBqIjj8",
        "colab": {
          "base_uri": "https://localhost:8080/"
        },
        "outputId": "7cf0ee29-1aec-41c4-95e5-b7b36fe1d54a"
      },
      "execution_count": 121,
      "outputs": [
        {
          "output_type": "execute_result",
          "data": {
            "text/plain": [
              "0.46746"
            ]
          },
          "metadata": {},
          "execution_count": 121
        }
      ]
    },
    {
      "cell_type": "code",
      "source": [
        "model_2 = train_model(model_2, criterion_2, optimizer_2, lr_schedular_2)"
      ],
      "metadata": {
        "execution": {
          "iopub.status.busy": "2022-05-12T20:04:45.567468Z",
          "iopub.execute_input": "2022-05-12T20:04:45.567984Z",
          "iopub.status.idle": "2022-05-12T20:11:47.379808Z",
          "shell.execute_reply.started": "2022-05-12T20:04:45.567947Z",
          "shell.execute_reply": "2022-05-12T20:11:47.37908Z"
        },
        "trusted": true,
        "id": "cVHV-9kuIjj8",
        "colab": {
          "base_uri": "https://localhost:8080/"
        },
        "outputId": "57131e41-b382-434e-e664-cab2c720c727"
      },
      "execution_count": 122,
      "outputs": [
        {
          "output_type": "stream",
          "name": "stdout",
          "text": [
            "Epoch 1/5\n",
            "----------\n",
            "train Loss: 0.5807 Acc: 0.7167\n",
            "\n",
            "val Loss: 0.4906 Acc: 0.7890\n",
            "\n",
            "Epoch 2/5\n",
            "----------\n",
            "train Loss: 0.5644 Acc: 0.7279\n",
            "\n",
            "val Loss: 0.4689 Acc: 0.7957\n",
            "\n",
            "Epoch 3/5\n",
            "----------\n",
            "train Loss: 0.5558 Acc: 0.7212\n",
            "\n",
            "val Loss: 0.4822 Acc: 0.7890\n",
            "\n",
            "Epoch 4/5\n",
            "----------\n",
            "train Loss: 0.5691 Acc: 0.7241\n",
            "\n",
            "val Loss: 0.4744 Acc: 0.7890\n",
            "\n",
            "Epoch 5/5\n",
            "----------\n",
            "train Loss: 0.5696 Acc: 0.7262\n",
            "\n",
            "val Loss: 0.4784 Acc: 0.7957\n",
            "\n",
            "Training complete in 1m 29s\n"
          ]
        }
      ]
    },
    {
      "cell_type": "code",
      "source": [
        "test_model(model_2)"
      ],
      "metadata": {
        "execution": {
          "iopub.status.busy": "2022-05-12T17:36:58.062704Z",
          "iopub.execute_input": "2022-05-12T17:36:58.06299Z",
          "iopub.status.idle": "2022-05-12T17:37:32.172298Z",
          "shell.execute_reply.started": "2022-05-12T17:36:58.06295Z",
          "shell.execute_reply": "2022-05-12T17:37:32.171277Z"
        },
        "trusted": true,
        "id": "iII5R5QlIjj8",
        "colab": {
          "base_uri": "https://localhost:8080/"
        },
        "outputId": "bafacbd6-17c6-48aa-cec4-92401f2fa870"
      },
      "execution_count": 125,
      "outputs": [
        {
          "output_type": "execute_result",
          "data": {
            "text/plain": [
              "0.46746"
            ]
          },
          "metadata": {},
          "execution_count": 125
        }
      ]
    },
    {
      "cell_type": "markdown",
      "source": [
        "Result after 20 epochs: 0.81541"
      ],
      "metadata": {
        "id": "549Tw7OdIjj8"
      }
    },
    {
      "cell_type": "markdown",
      "source": [
        "## 2 Approach with AlexNet"
      ],
      "metadata": {
        "id": "L7m7SfJqIjj8"
      }
    },
    {
      "cell_type": "code",
      "source": [
        "set_seed(42)\n",
        "alexnet_2 = models.alexnet(pretrained=True)\n",
        "for param in alexnet_2.parameters():\n",
        "    param.requires_grad = False\n",
        "\n",
        "alexnet_2.classifier[4] = nn.Linear(4096, 1024) # update the second classifier\n",
        "#RELU\n",
        "alexnet_2.classifier[6] = nn.Linear(1024, 2)\n",
        "alexnet_2 = alexnet_2.to(device)\n",
        "\n",
        "alx_optimizer_2 = optim.SGD(alexnet_2.parameters(), lr = 0.01)\n",
        "alx_criterion_2 = nn.CrossEntropyLoss()\n",
        "alx_lr_schedular_2 = lr_scheduler.StepLR(optimizer_2, step_size=5, gamma=0.1)"
      ],
      "metadata": {
        "execution": {
          "iopub.status.busy": "2022-05-12T17:37:32.173998Z",
          "iopub.execute_input": "2022-05-12T17:37:32.174308Z",
          "iopub.status.idle": "2022-05-12T17:37:55.372501Z",
          "shell.execute_reply.started": "2022-05-12T17:37:32.174265Z",
          "shell.execute_reply": "2022-05-12T17:37:55.371566Z"
        },
        "trusted": true,
        "id": "J7SZ92GGIjj9"
      },
      "execution_count": 126,
      "outputs": []
    },
    {
      "cell_type": "code",
      "source": [
        "test_model(alexnet_2)"
      ],
      "metadata": {
        "execution": {
          "iopub.status.busy": "2022-05-12T17:37:55.37422Z",
          "iopub.execute_input": "2022-05-12T17:37:55.374526Z",
          "iopub.status.idle": "2022-05-12T17:38:11.579873Z",
          "shell.execute_reply.started": "2022-05-12T17:37:55.374486Z",
          "shell.execute_reply": "2022-05-12T17:38:11.578963Z"
        },
        "trusted": true,
        "id": "tAL-EsQEIjj9",
        "colab": {
          "base_uri": "https://localhost:8080/"
        },
        "outputId": "2b6546d3-5f02-4c20-90f6-3548071e82dd"
      },
      "execution_count": 127,
      "outputs": [
        {
          "output_type": "execute_result",
          "data": {
            "text/plain": [
              "0.39575"
            ]
          },
          "metadata": {},
          "execution_count": 127
        }
      ]
    },
    {
      "cell_type": "code",
      "source": [
        "alexnet_2 = train_model(alexnet_2, alx_criterion_2, alx_optimizer_2, alx_lr_schedular_2)"
      ],
      "metadata": {
        "execution": {
          "iopub.status.busy": "2022-05-12T17:38:11.58115Z",
          "iopub.execute_input": "2022-05-12T17:38:11.581715Z",
          "iopub.status.idle": "2022-05-12T17:39:19.461068Z",
          "shell.execute_reply.started": "2022-05-12T17:38:11.581679Z",
          "shell.execute_reply": "2022-05-12T17:39:19.460298Z"
        },
        "trusted": true,
        "id": "nOcApNWDIjj9",
        "colab": {
          "base_uri": "https://localhost:8080/"
        },
        "outputId": "5627d20b-fc76-499e-a529-35c6f44e50b1"
      },
      "execution_count": 128,
      "outputs": [
        {
          "output_type": "stream",
          "name": "stdout",
          "text": [
            "Epoch 1/5\n",
            "----------\n",
            "train Loss: 0.5094 Acc: 0.7798\n",
            "\n",
            "val Loss: 0.3223 Acc: 0.8671\n",
            "\n",
            "Epoch 2/5\n",
            "----------\n",
            "train Loss: 0.3822 Acc: 0.8363\n",
            "\n",
            "val Loss: 0.2970 Acc: 0.8704\n",
            "\n",
            "Epoch 3/5\n",
            "----------\n",
            "train Loss: 0.3675 Acc: 0.8529\n",
            "\n",
            "val Loss: 0.3374 Acc: 0.8721\n",
            "\n",
            "Epoch 4/5\n",
            "----------\n",
            "train Loss: 0.3528 Acc: 0.8479\n",
            "\n",
            "val Loss: 0.3183 Acc: 0.8538\n",
            "\n",
            "Epoch 5/5\n",
            "----------\n",
            "train Loss: 0.3532 Acc: 0.8571\n",
            "\n",
            "val Loss: 0.2867 Acc: 0.8771\n",
            "\n",
            "Training complete in 1m 18s\n"
          ]
        }
      ]
    },
    {
      "cell_type": "code",
      "source": [
        "test_model(alexnet_2)"
      ],
      "metadata": {
        "execution": {
          "iopub.status.busy": "2022-05-12T17:39:19.462255Z",
          "iopub.execute_input": "2022-05-12T17:39:19.462479Z",
          "iopub.status.idle": "2022-05-12T17:39:34.992547Z",
          "shell.execute_reply.started": "2022-05-12T17:39:19.462443Z",
          "shell.execute_reply": "2022-05-12T17:39:34.991618Z"
        },
        "trusted": true,
        "id": "LbLrc6YvIjj9",
        "colab": {
          "base_uri": "https://localhost:8080/"
        },
        "outputId": "6c8cb200-bde6-45d8-a3c0-f8231e9a9ef0"
      },
      "execution_count": 129,
      "outputs": [
        {
          "output_type": "execute_result",
          "data": {
            "text/plain": [
              "0.88048"
            ]
          },
          "metadata": {},
          "execution_count": 129
        }
      ]
    },
    {
      "cell_type": "markdown",
      "source": [
        "Result after 20 epochs: 0.90173"
      ],
      "metadata": {
        "id": "-UezMtT1Ijj9"
      }
    },
    {
      "cell_type": "markdown",
      "source": [
        "## 3 Approach:\n",
        "different learning rates for diferent layers. Or Layer-Wise Learning Rate. The key idea is to gradually reduce the learning rate when going deeper into the network."
      ],
      "metadata": {
        "id": "_A_AfH6GIjj9"
      }
    },
    {
      "cell_type": "markdown",
      "source": [
        "## 3 Approach with ResNet-18"
      ],
      "metadata": {
        "id": "TdvRYE06En-p"
      }
    },
    {
      "cell_type": "code",
      "source": [
        "set_seed(42)\n",
        "model_3 = models.resnet18(pretrained=True)\n",
        "num_of_inputfeatures = model_3.fc.in_features \n",
        "model_3.fc = nn.Linear(num_of_inputfeatures, 2)\n",
        "\n",
        "list_of_layers = []\n",
        "for layer in model_3.named_parameters():\n",
        "      list_of_layers.append(layer[0])\n",
        "\n",
        "model_3.to(device)\n",
        "list_of_layers.reverse()\n",
        "\n",
        "lr = 0.01  \n",
        "\n",
        "parameters = []\n",
        "prev_group_name = list_of_layers[0].split('.')[0]\n",
        "\n",
        "# store params & learning rates\n",
        "for idx, name in enumerate(list_of_layers):\n",
        "    \n",
        "    cur_group_name = name.split('.')[0]\n",
        "    \n",
        "    # update learning rate\n",
        "    if cur_group_name != prev_group_name:\n",
        "        lr *= 0.8\n",
        "    prev_group_name = cur_group_name\n",
        "    \n",
        "    \n",
        "    #print(f'lr = {lr:.4f}, {name}')\n",
        "    \n",
        "    # append layer parameters\n",
        "    parameters += [{'params': [p for n, p in model_3.named_parameters() if n == name and p.requires_grad],\n",
        "                    'lr':     lr}]\n",
        "\n",
        "optimizer_3 = optim.Adam(parameters)\n",
        "creterion_3 = nn.CrossEntropyLoss()\n",
        "\n"
      ],
      "metadata": {
        "execution": {
          "iopub.status.busy": "2022-05-12T18:47:10.163657Z",
          "iopub.execute_input": "2022-05-12T18:47:10.163974Z",
          "iopub.status.idle": "2022-05-12T18:47:13.708294Z",
          "shell.execute_reply.started": "2022-05-12T18:47:10.163926Z",
          "shell.execute_reply": "2022-05-12T18:47:13.707567Z"
        },
        "trusted": true,
        "id": "tG8c5cDfIjj-"
      },
      "execution_count": 130,
      "outputs": []
    },
    {
      "cell_type": "code",
      "source": [
        "test_model(model_3)"
      ],
      "metadata": {
        "execution": {
          "iopub.status.busy": "2022-05-12T18:47:17.807374Z",
          "iopub.execute_input": "2022-05-12T18:47:17.807624Z",
          "iopub.status.idle": "2022-05-12T18:47:56.461338Z",
          "shell.execute_reply.started": "2022-05-12T18:47:17.807598Z",
          "shell.execute_reply": "2022-05-12T18:47:56.460483Z"
        },
        "trusted": true,
        "id": "ifGWpLqaIjj-",
        "colab": {
          "base_uri": "https://localhost:8080/"
        },
        "outputId": "6e214be1-ca9f-43af-dbf4-bd3e3675a16a"
      },
      "execution_count": 131,
      "outputs": [
        {
          "output_type": "execute_result",
          "data": {
            "text/plain": [
              "0.46746"
            ]
          },
          "metadata": {},
          "execution_count": 131
        }
      ]
    },
    {
      "cell_type": "code",
      "source": [
        "model_3 = train_model(model_3, creterion_3, optimizer_3, scheduler=None)"
      ],
      "metadata": {
        "execution": {
          "iopub.status.busy": "2022-05-12T17:40:07.197811Z",
          "iopub.execute_input": "2022-05-12T17:40:07.198111Z",
          "iopub.status.idle": "2022-05-12T17:45:50.486869Z",
          "shell.execute_reply.started": "2022-05-12T17:40:07.198071Z",
          "shell.execute_reply": "2022-05-12T17:45:50.485988Z"
        },
        "trusted": true,
        "id": "06O8vHrsIjj-",
        "colab": {
          "base_uri": "https://localhost:8080/"
        },
        "outputId": "034862c9-650c-4327-993e-e3534b150250"
      },
      "execution_count": 132,
      "outputs": [
        {
          "output_type": "stream",
          "name": "stdout",
          "text": [
            "Epoch 1/5\n",
            "----------\n",
            "train Loss: 0.6153 Acc: 0.7399\n",
            "\n",
            "val Loss: 0.8663 Acc: 0.4535\n",
            "\n",
            "Epoch 2/5\n",
            "----------\n",
            "train Loss: 0.4515 Acc: 0.8114\n",
            "\n",
            "val Loss: 0.3942 Acc: 0.8173\n",
            "\n",
            "Epoch 3/5\n",
            "----------\n",
            "train Loss: 0.4163 Acc: 0.8218\n",
            "\n",
            "val Loss: 0.4406 Acc: 0.7907\n",
            "\n",
            "Epoch 4/5\n",
            "----------\n",
            "train Loss: 0.3943 Acc: 0.8297\n",
            "\n",
            "val Loss: 0.3809 Acc: 0.8389\n",
            "\n",
            "Epoch 5/5\n",
            "----------\n",
            "train Loss: 0.3477 Acc: 0.8563\n",
            "\n",
            "val Loss: 0.3666 Acc: 0.8588\n",
            "\n",
            "Training complete in 1m 58s\n"
          ]
        }
      ]
    },
    {
      "cell_type": "code",
      "source": [
        "test_model(model_3)"
      ],
      "metadata": {
        "execution": {
          "iopub.status.busy": "2022-05-12T17:45:50.488286Z",
          "iopub.execute_input": "2022-05-12T17:45:50.488837Z",
          "iopub.status.idle": "2022-05-12T17:46:19.172029Z",
          "shell.execute_reply.started": "2022-05-12T17:45:50.488795Z",
          "shell.execute_reply": "2022-05-12T17:46:19.171154Z"
        },
        "trusted": true,
        "id": "IaWOSFK9Ijj_",
        "colab": {
          "base_uri": "https://localhost:8080/"
        },
        "outputId": "308b9840-1b40-4963-9944-730ad081bc73"
      },
      "execution_count": 133,
      "outputs": [
        {
          "output_type": "execute_result",
          "data": {
            "text/plain": [
              "0.8672"
            ]
          },
          "metadata": {},
          "execution_count": 133
        }
      ]
    },
    {
      "cell_type": "markdown",
      "source": [
        "Result after 20 epochs: 0.9761"
      ],
      "metadata": {
        "id": "qd-c6VA2Ijj_"
      }
    },
    {
      "cell_type": "markdown",
      "source": [
        "# 3 Approach with AlexNet"
      ],
      "metadata": {
        "id": "d-zTxOkHIjj_"
      }
    },
    {
      "cell_type": "code",
      "source": [
        "set_seed(4)\n",
        "alexnet_3 = models.alexnet(pretrained=True)\n",
        "alexnet_3.classifier[4] = nn.Linear(4096, 1024) # update the second classifier\n",
        "#RELU\n",
        "alexnet_3.classifier[6] = nn.Linear(1024, 2)\n",
        "alexnet_3.to(device)\n",
        "\n",
        "alx_optimizer_3 = optim.SGD([\n",
        "                           {'params': alexnet_3.features.parameters()},\n",
        "                           {'params': alexnet_3.classifier.parameters(), 'lr': 1e-4}],  lr=1e-5)\n",
        "alx_creterion_3 = nn.CrossEntropyLoss().to(device)"
      ],
      "metadata": {
        "execution": {
          "iopub.status.busy": "2022-05-13T22:31:56.637051Z",
          "iopub.execute_input": "2022-05-13T22:31:56.637359Z",
          "iopub.status.idle": "2022-05-13T22:31:58.200662Z",
          "shell.execute_reply.started": "2022-05-13T22:31:56.637325Z",
          "shell.execute_reply": "2022-05-13T22:31:58.199376Z"
        },
        "trusted": true,
        "id": "HNc_bLR-Ijj_"
      },
      "execution_count": 134,
      "outputs": []
    },
    {
      "cell_type": "code",
      "source": [
        "test_model(alexnet_3)"
      ],
      "metadata": {
        "execution": {
          "iopub.status.busy": "2022-05-13T22:32:04.885038Z",
          "iopub.execute_input": "2022-05-13T22:32:04.885366Z",
          "iopub.status.idle": "2022-05-13T22:32:17.901612Z",
          "shell.execute_reply.started": "2022-05-13T22:32:04.885326Z",
          "shell.execute_reply": "2022-05-13T22:32:17.900715Z"
        },
        "trusted": true,
        "id": "ebdCWiH8Ijj_",
        "colab": {
          "base_uri": "https://localhost:8080/"
        },
        "outputId": "d01d295a-2320-4872-bac8-4a9a833436d9"
      },
      "execution_count": 135,
      "outputs": [
        {
          "output_type": "execute_result",
          "data": {
            "text/plain": [
              "0.4502"
            ]
          },
          "metadata": {},
          "execution_count": 135
        }
      ]
    },
    {
      "cell_type": "code",
      "source": [
        "alexnet_3 = train_model(alexnet_3, alx_creterion_3, alx_optimizer_3, scheduler=None)"
      ],
      "metadata": {
        "execution": {
          "iopub.status.busy": "2022-05-13T22:36:04.191320Z",
          "iopub.execute_input": "2022-05-13T22:36:04.191630Z",
          "iopub.status.idle": "2022-05-13T22:43:59.029126Z",
          "shell.execute_reply.started": "2022-05-13T22:36:04.191595Z",
          "shell.execute_reply": "2022-05-13T22:43:59.028438Z"
        },
        "trusted": true,
        "id": "HvhhKHiYIjj_",
        "colab": {
          "base_uri": "https://localhost:8080/"
        },
        "outputId": "533350a1-636a-4e7f-d646-9419e2ea2f79"
      },
      "execution_count": 136,
      "outputs": [
        {
          "output_type": "stream",
          "name": "stdout",
          "text": [
            "Epoch 1/5\n",
            "----------\n",
            "train Loss: 0.5034 Acc: 0.7669\n",
            "\n",
            "val Loss: 0.3606 Acc: 0.8522\n",
            "\n",
            "Epoch 2/5\n",
            "----------\n",
            "train Loss: 0.3972 Acc: 0.8238\n",
            "\n",
            "val Loss: 0.3270 Acc: 0.8555\n",
            "\n",
            "Epoch 3/5\n",
            "----------\n",
            "train Loss: 0.3555 Acc: 0.8583\n",
            "\n",
            "val Loss: 0.2976 Acc: 0.8771\n",
            "\n",
            "Epoch 4/5\n",
            "----------\n",
            "train Loss: 0.3304 Acc: 0.8720\n",
            "\n",
            "val Loss: 0.2835 Acc: 0.8771\n",
            "\n",
            "Epoch 5/5\n",
            "----------\n",
            "train Loss: 0.3237 Acc: 0.8733\n",
            "\n",
            "val Loss: 0.2690 Acc: 0.8854\n",
            "\n",
            "Training complete in 1m 34s\n"
          ]
        }
      ]
    },
    {
      "cell_type": "code",
      "source": [
        "test_model(alexnet_3)"
      ],
      "metadata": {
        "execution": {
          "iopub.status.busy": "2022-05-13T22:54:07.429967Z",
          "iopub.execute_input": "2022-05-13T22:54:07.430293Z",
          "iopub.status.idle": "2022-05-13T22:54:19.990414Z",
          "shell.execute_reply.started": "2022-05-13T22:54:07.430256Z",
          "shell.execute_reply": "2022-05-13T22:54:19.989731Z"
        },
        "trusted": true,
        "id": "BhwRDe2CIjkA",
        "colab": {
          "base_uri": "https://localhost:8080/"
        },
        "outputId": "ded62b76-0939-458f-d632-f77ccd78d837"
      },
      "execution_count": 137,
      "outputs": [
        {
          "output_type": "execute_result",
          "data": {
            "text/plain": [
              "0.89243"
            ]
          },
          "metadata": {},
          "execution_count": 137
        }
      ]
    },
    {
      "cell_type": "markdown",
      "source": [
        "Result after 20 epochs: 0.96016"
      ],
      "metadata": {
        "id": "6BSgziioIjkA"
      }
    }
  ]
}